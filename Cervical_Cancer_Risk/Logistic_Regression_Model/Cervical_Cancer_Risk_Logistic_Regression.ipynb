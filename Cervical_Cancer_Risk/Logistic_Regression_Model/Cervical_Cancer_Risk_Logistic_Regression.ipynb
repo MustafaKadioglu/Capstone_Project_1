{
 "cells": [
  {
   "cell_type": "markdown",
   "metadata": {},
   "source": [
    "## Importing Necessary Libraries"
   ]
  },
  {
   "cell_type": "code",
   "execution_count": 238,
   "metadata": {},
   "outputs": [],
   "source": [
    "%matplotlib inline\n",
    "import numpy as np\n",
    "import scipy as sp\n",
    "import matplotlib.pyplot as plt\n",
    "import pandas as pd\n",
    "import seaborn as sns\n",
    "import sklearn.model_selection"
   ]
  },
  {
   "cell_type": "markdown",
   "metadata": {},
   "source": [
    "### Reading the cleaned data set"
   ]
  },
  {
   "cell_type": "code",
   "execution_count": 239,
   "metadata": {},
   "outputs": [],
   "source": [
    "df =pd.read_csv('C:\\Users\\Mike\\Cervical_Cancer_Risk_Cleaned.csv')"
   ]
  },
  {
   "cell_type": "code",
   "execution_count": 240,
   "metadata": {
    "scrolled": false
   },
   "outputs": [
    {
     "data": {
      "text/html": [
       "<div>\n",
       "<style scoped>\n",
       "    .dataframe tbody tr th:only-of-type {\n",
       "        vertical-align: middle;\n",
       "    }\n",
       "\n",
       "    .dataframe tbody tr th {\n",
       "        vertical-align: top;\n",
       "    }\n",
       "\n",
       "    .dataframe thead th {\n",
       "        text-align: right;\n",
       "    }\n",
       "</style>\n",
       "<table border=\"1\" class=\"dataframe\">\n",
       "  <thead>\n",
       "    <tr style=\"text-align: right;\">\n",
       "      <th></th>\n",
       "      <th>Unnamed: 0</th>\n",
       "      <th>Age</th>\n",
       "      <th>Number of sexual partners</th>\n",
       "      <th>First sexual intercourse</th>\n",
       "      <th>Num of pregnancies</th>\n",
       "      <th>Smokes (years)</th>\n",
       "      <th>Smokes (packs/year)</th>\n",
       "      <th>Hormonal Contraceptives (years)</th>\n",
       "      <th>IUD (years)</th>\n",
       "      <th>STDs (number)</th>\n",
       "      <th>...</th>\n",
       "      <th>STDs:molluscum contagiosum_1.0</th>\n",
       "      <th>STDs:molluscum contagiosum_nan</th>\n",
       "      <th>STDs:AIDS_0.0</th>\n",
       "      <th>STDs:AIDS_nan</th>\n",
       "      <th>STDs:HIV_0.0</th>\n",
       "      <th>STDs:HIV_1.0</th>\n",
       "      <th>STDs:HIV_nan</th>\n",
       "      <th>STDs:HPV_0.0</th>\n",
       "      <th>STDs:HPV_1.0</th>\n",
       "      <th>STDs:HPV_nan</th>\n",
       "    </tr>\n",
       "  </thead>\n",
       "  <tbody>\n",
       "    <tr>\n",
       "      <th>0</th>\n",
       "      <td>0</td>\n",
       "      <td>18</td>\n",
       "      <td>4.0</td>\n",
       "      <td>15.0</td>\n",
       "      <td>1.0</td>\n",
       "      <td>0.0</td>\n",
       "      <td>0.0</td>\n",
       "      <td>0.0</td>\n",
       "      <td>0.0</td>\n",
       "      <td>0.0</td>\n",
       "      <td>...</td>\n",
       "      <td>0</td>\n",
       "      <td>0</td>\n",
       "      <td>1</td>\n",
       "      <td>0</td>\n",
       "      <td>1</td>\n",
       "      <td>0</td>\n",
       "      <td>0</td>\n",
       "      <td>1</td>\n",
       "      <td>0</td>\n",
       "      <td>0</td>\n",
       "    </tr>\n",
       "    <tr>\n",
       "      <th>1</th>\n",
       "      <td>1</td>\n",
       "      <td>15</td>\n",
       "      <td>1.0</td>\n",
       "      <td>14.0</td>\n",
       "      <td>1.0</td>\n",
       "      <td>0.0</td>\n",
       "      <td>0.0</td>\n",
       "      <td>0.0</td>\n",
       "      <td>0.0</td>\n",
       "      <td>0.0</td>\n",
       "      <td>...</td>\n",
       "      <td>0</td>\n",
       "      <td>0</td>\n",
       "      <td>1</td>\n",
       "      <td>0</td>\n",
       "      <td>1</td>\n",
       "      <td>0</td>\n",
       "      <td>0</td>\n",
       "      <td>1</td>\n",
       "      <td>0</td>\n",
       "      <td>0</td>\n",
       "    </tr>\n",
       "    <tr>\n",
       "      <th>2</th>\n",
       "      <td>2</td>\n",
       "      <td>34</td>\n",
       "      <td>1.0</td>\n",
       "      <td>17.0</td>\n",
       "      <td>1.0</td>\n",
       "      <td>0.0</td>\n",
       "      <td>0.0</td>\n",
       "      <td>0.0</td>\n",
       "      <td>0.0</td>\n",
       "      <td>0.0</td>\n",
       "      <td>...</td>\n",
       "      <td>0</td>\n",
       "      <td>0</td>\n",
       "      <td>1</td>\n",
       "      <td>0</td>\n",
       "      <td>1</td>\n",
       "      <td>0</td>\n",
       "      <td>0</td>\n",
       "      <td>1</td>\n",
       "      <td>0</td>\n",
       "      <td>0</td>\n",
       "    </tr>\n",
       "    <tr>\n",
       "      <th>3</th>\n",
       "      <td>3</td>\n",
       "      <td>52</td>\n",
       "      <td>5.0</td>\n",
       "      <td>16.0</td>\n",
       "      <td>4.0</td>\n",
       "      <td>37.0</td>\n",
       "      <td>37.0</td>\n",
       "      <td>3.0</td>\n",
       "      <td>0.0</td>\n",
       "      <td>0.0</td>\n",
       "      <td>...</td>\n",
       "      <td>0</td>\n",
       "      <td>0</td>\n",
       "      <td>1</td>\n",
       "      <td>0</td>\n",
       "      <td>1</td>\n",
       "      <td>0</td>\n",
       "      <td>0</td>\n",
       "      <td>1</td>\n",
       "      <td>0</td>\n",
       "      <td>0</td>\n",
       "    </tr>\n",
       "    <tr>\n",
       "      <th>4</th>\n",
       "      <td>4</td>\n",
       "      <td>46</td>\n",
       "      <td>3.0</td>\n",
       "      <td>21.0</td>\n",
       "      <td>4.0</td>\n",
       "      <td>0.0</td>\n",
       "      <td>0.0</td>\n",
       "      <td>15.0</td>\n",
       "      <td>0.0</td>\n",
       "      <td>0.0</td>\n",
       "      <td>...</td>\n",
       "      <td>0</td>\n",
       "      <td>0</td>\n",
       "      <td>1</td>\n",
       "      <td>0</td>\n",
       "      <td>1</td>\n",
       "      <td>0</td>\n",
       "      <td>0</td>\n",
       "      <td>1</td>\n",
       "      <td>0</td>\n",
       "      <td>0</td>\n",
       "    </tr>\n",
       "  </tbody>\n",
       "</table>\n",
       "<p>5 rows × 65 columns</p>\n",
       "</div>"
      ],
      "text/plain": [
       "   Unnamed: 0  Age  Number of sexual partners  First sexual intercourse  \\\n",
       "0           0   18                        4.0                      15.0   \n",
       "1           1   15                        1.0                      14.0   \n",
       "2           2   34                        1.0                      17.0   \n",
       "3           3   52                        5.0                      16.0   \n",
       "4           4   46                        3.0                      21.0   \n",
       "\n",
       "   Num of pregnancies  Smokes (years)  Smokes (packs/year)  \\\n",
       "0                 1.0             0.0                  0.0   \n",
       "1                 1.0             0.0                  0.0   \n",
       "2                 1.0             0.0                  0.0   \n",
       "3                 4.0            37.0                 37.0   \n",
       "4                 4.0             0.0                  0.0   \n",
       "\n",
       "   Hormonal Contraceptives (years)  IUD (years)  STDs (number)      ...       \\\n",
       "0                              0.0          0.0            0.0      ...        \n",
       "1                              0.0          0.0            0.0      ...        \n",
       "2                              0.0          0.0            0.0      ...        \n",
       "3                              3.0          0.0            0.0      ...        \n",
       "4                             15.0          0.0            0.0      ...        \n",
       "\n",
       "   STDs:molluscum contagiosum_1.0  STDs:molluscum contagiosum_nan  \\\n",
       "0                               0                               0   \n",
       "1                               0                               0   \n",
       "2                               0                               0   \n",
       "3                               0                               0   \n",
       "4                               0                               0   \n",
       "\n",
       "   STDs:AIDS_0.0  STDs:AIDS_nan  STDs:HIV_0.0  STDs:HIV_1.0  STDs:HIV_nan  \\\n",
       "0              1              0             1             0             0   \n",
       "1              1              0             1             0             0   \n",
       "2              1              0             1             0             0   \n",
       "3              1              0             1             0             0   \n",
       "4              1              0             1             0             0   \n",
       "\n",
       "   STDs:HPV_0.0  STDs:HPV_1.0  STDs:HPV_nan  \n",
       "0             1             0             0  \n",
       "1             1             0             0  \n",
       "2             1             0             0  \n",
       "3             1             0             0  \n",
       "4             1             0             0  \n",
       "\n",
       "[5 rows x 65 columns]"
      ]
     },
     "execution_count": 240,
     "metadata": {},
     "output_type": "execute_result"
    }
   ],
   "source": [
    "df.head()"
   ]
  },
  {
   "cell_type": "markdown",
   "metadata": {},
   "source": [
    "**Dropping unnamed column**"
   ]
  },
  {
   "cell_type": "code",
   "execution_count": 241,
   "metadata": {},
   "outputs": [],
   "source": [
    "df.drop('Unnamed: 0', axis = 1, inplace = True)"
   ]
  },
  {
   "cell_type": "markdown",
   "metadata": {},
   "source": [
    "### Spliting the data in two parts (train and test), fitting the model and implementing accuracy test"
   ]
  },
  {
   "cell_type": "code",
   "execution_count": 242,
   "metadata": {},
   "outputs": [
    {
     "name": "stdout",
     "output_type": "stream",
     "text": [
      "Train data set accuracy score  : 0.995\n",
      "Test data set accuracy score   : 0.986\n"
     ]
    }
   ],
   "source": [
    "from sklearn.model_selection import train_test_split\n",
    "from sklearn.linear_model import LogisticRegression\n",
    "from sklearn.metrics import accuracy_score\n",
    "\n",
    "\n",
    "# Split the data into a training and test set.\n",
    "X = df.drop('Dx:Cancer', axis =1).values\n",
    "y = df['Dx:Cancer'].values\n",
    "Xlr, Xtestlr, ylr, ytestlr = train_test_split(X, y, train_size = 0.75, random_state=10, stratify = y)\n",
    "\n",
    "clf = LogisticRegression()\n",
    "# Fit the model on the trainng data.\n",
    "clf.fit(Xlr, ylr)\n",
    "# Print the accuracy from the testing data.\n",
    "print ('Train data set accuracy score  : {0:.3f}'. format(accuracy_score(clf.predict(Xlr), ylr)))\n",
    "print('Test data set accuracy score   : {0:.3f}'. format(accuracy_score(clf.predict(Xtestlr), ytestlr)))"
   ]
  },
  {
   "cell_type": "markdown",
   "metadata": {},
   "source": [
    "**Data imbalance occurs when the sample size in the data classes are unevenly distributed as such in our data set. Most standard machine learning algorithms work well with balanced training data but they face challenges when the dataset classes are imbalanced. In such situation, classification methods tend to be biased towards the majority class. These algorithms are inefficient in this case mainly because they seek to maximize a measure of performance such as accuracy which is no longer a proper measure for imbalanced data. Accuracy treats equally the correctly and incorrectly classified examples of different data classes. For example, consider a data set that has 10% positive class and 90% negative class. A naif classifier that always outputs the majority class label will have a high accuracy of around 0.90. As the data imbalance is more pronounced, the evaluation of the classifier performance must be carried out using adequate metrics in order to take into account the class distribution and to pay more attention to the minority class.**"
   ]
  },
  {
   "cell_type": "markdown",
   "metadata": {},
   "source": [
    "**Train Classification Report**"
   ]
  },
  {
   "cell_type": "code",
   "execution_count": 243,
   "metadata": {},
   "outputs": [
    {
     "name": "stdout",
     "output_type": "stream",
     "text": [
      "             precision    recall  f1-score   support\n",
      "\n",
      "          0       1.00      1.00      1.00       630\n",
      "          1       1.00      0.77      0.87        13\n",
      "\n",
      "avg / total       1.00      1.00      1.00       643\n",
      "\n"
     ]
    }
   ],
   "source": [
    "from sklearn.metrics import classification_report\n",
    "print(classification_report(ylr, clf.predict(Xlr), target_names=['0','1']))"
   ]
  },
  {
   "cell_type": "markdown",
   "metadata": {},
   "source": [
    "**The train classification report shows that, our model predicts the non-cancer patients correctly with 100% accuracy. But the model predicts 10 patients out of 13 patients are predicted correctly as cancer with %77 accuracy but model misses 3 patients.**"
   ]
  },
  {
   "cell_type": "markdown",
   "metadata": {},
   "source": [
    "**Test Classification Report**"
   ]
  },
  {
   "cell_type": "code",
   "execution_count": 244,
   "metadata": {},
   "outputs": [
    {
     "name": "stdout",
     "output_type": "stream",
     "text": [
      "             precision    recall  f1-score   support\n",
      "\n",
      "          0       0.99      1.00      0.99       210\n",
      "          1       1.00      0.40      0.57         5\n",
      "\n",
      "avg / total       0.99      0.99      0.98       215\n",
      "\n"
     ]
    }
   ],
   "source": [
    "print(classification_report(ytestlr, clf.predict(Xtestlr), target_names=['0','1']))"
   ]
  },
  {
   "cell_type": "markdown",
   "metadata": {},
   "source": [
    "**The test classification report shows that our model predicts the non-cancer patients correctly with %99 accuracy. But the model predicts 2 out of 5 patients correctly as cancer but misses 3 patients. We will apply KFold Cross Validation to get more stable accuracy.**  "
   ]
  },
  {
   "cell_type": "markdown",
   "metadata": {},
   "source": [
    "### Applying KFold cross-validation"
   ]
  },
  {
   "cell_type": "code",
   "execution_count": 245,
   "metadata": {},
   "outputs": [],
   "source": [
    "from sklearn.model_selection import KFold\n",
    "from sklearn.metrics import accuracy_score\n",
    "\n",
    "def cv_score(clf, x, y, score_func=accuracy_score):\n",
    "    result = 0\n",
    "    nfold = 5\n",
    "    scores = []\n",
    "    for train, test in KFold(nfold).split(x): # split data into train/test groups, 10 times\n",
    "        clf.fit(x[train], y[train]) # fit\n",
    "        score = score_func(clf.predict(x[test]), y[test])\n",
    "        scores.append(score)\n",
    "        result += score # evaluate score function on held-out data\n",
    "    return result / nfold, scores # average and the list of the scores"
   ]
  },
  {
   "cell_type": "code",
   "execution_count": 246,
   "metadata": {
    "scrolled": true
   },
   "outputs": [
    {
     "name": "stdout",
     "output_type": "stream",
     "text": [
      "(0.98603439922480618, [1.0, 0.96899224806201545, 0.96899224806201545, 0.9921875, 1.0])\n"
     ]
    }
   ],
   "source": [
    "clf = LogisticRegression()\n",
    "score = cv_score(clf, Xlr, ylr)\n",
    "print(score)"
   ]
  },
  {
   "cell_type": "markdown",
   "metadata": {},
   "source": [
    "### Applying Random Forest Classifier"
   ]
  },
  {
   "cell_type": "markdown",
   "metadata": {},
   "source": [
    "In order to increase the prediction accuracy of the model, we applied Random Forest Classifier."
   ]
  },
  {
   "cell_type": "code",
   "execution_count": 247,
   "metadata": {},
   "outputs": [
    {
     "name": "stdout",
     "output_type": "stream",
     "text": [
      "             precision    recall  f1-score   support\n",
      "\n",
      "          0      0.986     1.000     0.993       210\n",
      "          1      1.000     0.400     0.571         5\n",
      "\n",
      "avg / total      0.986     0.986     0.983       215\n",
      "\n"
     ]
    }
   ],
   "source": [
    "from sklearn.ensemble import RandomForestClassifier\n",
    "from sklearn.metrics import classification_report\n",
    "clf = RandomForestClassifier(n_estimators=400)\n",
    "clf.fit(Xlr, ylr)\n",
    "predictions = clf.predict( Xtestlr)\n",
    "print (classification_report(ytestlr, predictions, target_names=['0', '1'], digits = 3))"
   ]
  },
  {
   "cell_type": "code",
   "execution_count": 248,
   "metadata": {},
   "outputs": [
    {
     "name": "stdout",
     "output_type": "stream",
     "text": [
      "[[210   0]\n",
      " [  3   2]]\n"
     ]
    }
   ],
   "source": [
    "from sklearn.metrics import confusion_matrix\n",
    "print (confusion_matrix(ytestlr, predictions))"
   ]
  },
  {
   "cell_type": "markdown",
   "metadata": {},
   "source": [
    "**After applying Random Forest classifier, there is almost no changing of correct prediction of our model. Model still predicts Cancer patients with %40 accuracy.In order to increase prediction accuracy we will apply SMOTE to increase Cancer samples in our train set and after fitting our model to train set, we will get the correct prediction proportion of test set.**"
   ]
  },
  {
   "cell_type": "markdown",
   "metadata": {},
   "source": [
    "### 1. Synthetic Minority Oversampling Technique (SMOTE)\n",
    "\n",
    "The former approach re-balances the class distribution by either oversampling the minority class or undersampling the majority class or by combing the two. The later approach seeks to learn more from the minority class by setting a high cost to the misclassification of this class. "
   ]
  },
  {
   "cell_type": "code",
   "execution_count": 249,
   "metadata": {
    "scrolled": true
   },
   "outputs": [
    {
     "name": "stdout",
     "output_type": "stream",
     "text": [
      "Resampled dataset shape Counter({0: 630, 1: 630})\n",
      "(1260L, 63L)\n",
      "(1260L,)\n"
     ]
    }
   ],
   "source": [
    "from collections import Counter\n",
    "from imblearn.over_sampling import SMOTE \n",
    "sm = SMOTE(random_state=42)\n",
    "X_res, y_res = sm.fit_sample(Xlr, ylr)\n",
    "print('Resampled dataset shape {}'.format(Counter(y_res)))\n",
    "print (X_res.shape)\n",
    "print (y_res.shape)"
   ]
  },
  {
   "cell_type": "markdown",
   "metadata": {},
   "source": [
    "**This is the new feature matrix which has 1260 data points and 63 features as X_res and the new response vector which has 1260 data points and 1 feature as y_res.**"
   ]
  },
  {
   "cell_type": "code",
   "execution_count": 250,
   "metadata": {},
   "outputs": [
    {
     "name": "stdout",
     "output_type": "stream",
     "text": [
      "Train data set accuracy score  : 0.999\n",
      "Test data set accuracy score   : 0.991\n"
     ]
    }
   ],
   "source": [
    "clf = LogisticRegression()\n",
    "clf.fit(X_res, y_res)\n",
    "# Print the accuracy from the training and testing data.\n",
    "print ('Train data set accuracy score  : {0:.3f}'. format(accuracy_score(clf.predict(X_res), y_res)))\n",
    "print('Test data set accuracy score   : {0:.3f}'. format(accuracy_score(clf.predict(Xtestlr), ytestlr)))"
   ]
  },
  {
   "cell_type": "markdown",
   "metadata": {},
   "source": [
    "**After implementing SMOTE, we got the test classification report**"
   ]
  },
  {
   "cell_type": "code",
   "execution_count": 251,
   "metadata": {},
   "outputs": [
    {
     "name": "stdout",
     "output_type": "stream",
     "text": [
      "             precision    recall  f1-score   support\n",
      "\n",
      "          0      0.995     0.995     0.995       210\n",
      "          1      0.800     0.800     0.800         5\n",
      "\n",
      "avg / total      0.991     0.991     0.991       215\n",
      "\n"
     ]
    }
   ],
   "source": [
    "print(classification_report(ytestlr, clf.predict(Xtestlr), target_names=['0','1'], digits =3))"
   ]
  },
  {
   "cell_type": "markdown",
   "metadata": {},
   "source": [
    "**After implementing SMOTE, test set classification report is obtained as written above. Now our model predicts Cancer patients with %80 accuracy which means that SMOTE increased our models correct prediction ability almost 2 times.**"
   ]
  },
  {
   "cell_type": "markdown",
   "metadata": {},
   "source": [
    "### Now we will apply Random Forest Classifier after SMOTE"
   ]
  },
  {
   "cell_type": "markdown",
   "metadata": {},
   "source": [
    "### Random Forest Classifier"
   ]
  },
  {
   "cell_type": "code",
   "execution_count": 252,
   "metadata": {},
   "outputs": [
    {
     "name": "stdout",
     "output_type": "stream",
     "text": [
      "             precision    recall  f1-score   support\n",
      "\n",
      "          0       1.00      1.00      1.00       210\n",
      "          1       1.00      0.80      0.89         5\n",
      "\n",
      "avg / total       1.00      1.00      1.00       215\n",
      "\n"
     ]
    }
   ],
   "source": [
    "from sklearn.ensemble import RandomForestClassifier\n",
    "from sklearn.metrics import classification_report\n",
    "clf = RandomForestClassifier(n_estimators=200)\n",
    "clf.fit(X_res, y_res)\n",
    "predictions = clf.predict( Xtestlr)\n",
    "print (classification_report(ytestlr, predictions, target_names=['0', '1']))"
   ]
  },
  {
   "cell_type": "code",
   "execution_count": 253,
   "metadata": {},
   "outputs": [
    {
     "data": {
      "text/plain": [
       "array([[210,   0],\n",
       "       [  1,   4]], dtype=int64)"
      ]
     },
     "execution_count": 253,
     "metadata": {},
     "output_type": "execute_result"
    }
   ],
   "source": [
    "from sklearn.metrics import confusion_matrix\n",
    "confusion_matrix(ytestlr, predictions)"
   ]
  },
  {
   "cell_type": "markdown",
   "metadata": {},
   "source": [
    "**1. Cervical Cancer Risk Data set is pretty imbalanced since Dx:Cancer(response vector) consists of 1 and 0 which have a  18/840 proportion. After splitting out the data set two parts with the .25/.75 proportion and applying Logistic Regression model. We found out that our model was predicting Nan-cancer patients with %99 accuracy which was expected. But for the cancer patients model could not get the same accuracy results and 2 patients out of 5 patients were correctly predicted as cancer but 3 patients were missed. As seen, there were only 5 cancer patients in the test set which did not allow the model to predict more accurate.**\n",
    "\n",
    "**2. After appling the KFold Cross Validation with n = 5 Kfold and got 0.986 accuracy score.**\n",
    "\n",
    "**3. Then once we applied Random Forest Classifier to increase the prediction of our model. But precision and recall did not change.We still had %40 accuracy prediction for the Cancer patients, our model missed 3 patients out of 5.** \n",
    "\n",
    "**4. In order to increase 1 (positive) samples in Dx:Cancer to get more accurate prediction model, we applied Synthetic Minority Oversampling Technique(SMOTE) to the train set and created 1260 (consisting of equal positive and negative samples) data points. Then we applied Logistic Regression and Random Forest Classifier to increase the accuracy of prediction. This time our model started to predict Cancer patients with %80 accuracy and only 1 out of 5 patient is missed by model.**\n",
    "\n",
    "**5. Since we do not have enough positive sample in our data set, only 18, we will twick with the train and test set proportion to get more accurate model. We will give test set more positive (1) samples and apply SMOTE to train set to get better prediction.** "
   ]
  },
  {
   "cell_type": "markdown",
   "metadata": {},
   "source": [
    "## Changing train and test data sets proportion and applying the same models to get more accurate predictions"
   ]
  },
  {
   "cell_type": "markdown",
   "metadata": {},
   "source": [
    "** Train and Test Proportion is 60/40**"
   ]
  },
  {
   "cell_type": "code",
   "execution_count": 254,
   "metadata": {},
   "outputs": [
    {
     "name": "stdout",
     "output_type": "stream",
     "text": [
      "Train data set accuracy score  : 0.994\n",
      "Test data set accuracy score   : 0.985\n"
     ]
    }
   ],
   "source": [
    "# Split the data into a training and test set.\n",
    "X = df.drop('Dx:Cancer', axis =1).values\n",
    "y = df['Dx:Cancer'].values\n",
    "Xlr, Xtestlr, ylr, ytestlr = train_test_split(X, y, train_size = 0.60, random_state=10, stratify = y)\n",
    "\n",
    "clf = LogisticRegression()\n",
    "# Fit the model on the trainng data.\n",
    "clf.fit(Xlr, ylr)\n",
    "# Print the accuracy from the testing data.\n",
    "print ('Train data set accuracy score  : {0:.3f}'. format(accuracy_score(clf.predict(Xlr), ylr)))\n",
    "print('Test data set accuracy score   : {0:.3f}'. format(accuracy_score(clf.predict(Xtestlr), ytestlr)))"
   ]
  },
  {
   "cell_type": "markdown",
   "metadata": {},
   "source": [
    "  "
   ]
  },
  {
   "cell_type": "markdown",
   "metadata": {},
   "source": [
    "**We almost get the same accuracy  results**"
   ]
  },
  {
   "cell_type": "code",
   "execution_count": 255,
   "metadata": {},
   "outputs": [
    {
     "name": "stdout",
     "output_type": "stream",
     "text": [
      "             precision    recall  f1-score   support\n",
      "\n",
      "          0       0.99      1.00      0.99       337\n",
      "          1       1.00      0.29      0.44         7\n",
      "\n",
      "avg / total       0.99      0.99      0.98       344\n",
      "\n"
     ]
    }
   ],
   "source": [
    "print (classification_report(ytestlr, clf.predict(Xtestlr), target_names=['0', '1']))"
   ]
  },
  {
   "cell_type": "code",
   "execution_count": 256,
   "metadata": {},
   "outputs": [
    {
     "name": "stdout",
     "output_type": "stream",
     "text": [
      "[[337   0]\n",
      " [  5   2]]\n"
     ]
    }
   ],
   "source": [
    "print (confusion_matrix(ytestlr, clf.predict(Xtestlr)))"
   ]
  },
  {
   "cell_type": "markdown",
   "metadata": {},
   "source": [
    "**After applying the classification report to test data set, the accuracy of predicting Cancer Patients get extremely low. Which means that only 2 patients out of 7 are predicted as cancer. So the model misses 5 patients. In order to increase the accuracy of prediction we will apply Random Forest Classifier.**\n",
    "\n",
    "Previous recall:%40\n",
    "\n",
    "Current recall :%29\n",
    "\n",
    "**Our model predicts Cancer Patients with %29 accuracy comperatively worse than our previous model.**"
   ]
  },
  {
   "cell_type": "markdown",
   "metadata": {},
   "source": [
    "### Random Forest Classifier"
   ]
  },
  {
   "cell_type": "code",
   "execution_count": 257,
   "metadata": {},
   "outputs": [
    {
     "name": "stdout",
     "output_type": "stream",
     "text": [
      "             precision    recall  f1-score   support\n",
      "\n",
      "          0      0.991     1.000     0.996       337\n",
      "          1      1.000     0.571     0.727         7\n",
      "\n",
      "avg / total      0.991     0.991     0.990       344\n",
      "\n"
     ]
    }
   ],
   "source": [
    "from sklearn.ensemble import RandomForestClassifier\n",
    "from sklearn.metrics import classification_report\n",
    "clf = RandomForestClassifier(n_estimators=400)\n",
    "clf.fit(Xlr, ylr)\n",
    "predictions = clf.predict( Xtestlr)\n",
    "print (classification_report(ytestlr, predictions, target_names=['0', '1'], digits = 3))"
   ]
  },
  {
   "cell_type": "code",
   "execution_count": 258,
   "metadata": {},
   "outputs": [
    {
     "name": "stdout",
     "output_type": "stream",
     "text": [
      "[[337   0]\n",
      " [  3   4]]\n"
     ]
    }
   ],
   "source": [
    "print (confusion_matrix(ytestlr, clf.predict(Xtestlr)))"
   ]
  },
  {
   "cell_type": "markdown",
   "metadata": {},
   "source": [
    "**After applying Random Forest Classifier, our model predicted Non-Cancer Patients with %99.1 accuracy. For Cancer patients the prediction accuracy of the model almost increased double and 4 out of 7 patients predicted correctly as cancer. However since the model produces satisfactory results, we are going to apply SMOTE.**\n",
    "\n",
    "**Recall increased almost double from %29 to %57.**"
   ]
  },
  {
   "cell_type": "markdown",
   "metadata": {},
   "source": [
    "### SMOTE"
   ]
  },
  {
   "cell_type": "code",
   "execution_count": 259,
   "metadata": {},
   "outputs": [
    {
     "name": "stdout",
     "output_type": "stream",
     "text": [
      "Resampled dataset shape Counter({0: 503, 1: 503})\n",
      "(1006L, 63L)\n",
      "(1006L,)\n"
     ]
    }
   ],
   "source": [
    "from collections import Counter\n",
    "from imblearn.over_sampling import SMOTE \n",
    "sm = SMOTE(random_state=42)\n",
    "X_res, y_res = sm.fit_sample(Xlr, ylr)\n",
    "print('Resampled dataset shape {}'.format(Counter(y_res)))\n",
    "print (X_res.shape)\n",
    "print (y_res.shape)"
   ]
  },
  {
   "cell_type": "code",
   "execution_count": 260,
   "metadata": {},
   "outputs": [
    {
     "name": "stdout",
     "output_type": "stream",
     "text": [
      "Train data set accuracy score  : 0.999\n",
      "Test data set accuracy score   : 0.994\n"
     ]
    }
   ],
   "source": [
    "clf = LogisticRegression()\n",
    "clf.fit(X_res, y_res)\n",
    "# Print the accuracy from the training and testing data.\n",
    "print ('Train data set accuracy score  : {0:.3f}'. format(accuracy_score(clf.predict(X_res), y_res)))\n",
    "print('Test data set accuracy score   : {0:.3f}'. format(accuracy_score(clf.predict(Xtestlr), ytestlr)))"
   ]
  },
  {
   "cell_type": "code",
   "execution_count": 261,
   "metadata": {},
   "outputs": [
    {
     "name": "stdout",
     "output_type": "stream",
     "text": [
      "             precision    recall  f1-score   support\n",
      "\n",
      "          0      0.997     0.997     0.997       337\n",
      "          1      0.857     0.857     0.857         7\n",
      "\n",
      "avg / total      0.994     0.994     0.994       344\n",
      "\n"
     ]
    }
   ],
   "source": [
    "print(classification_report(ytestlr, clf.predict(Xtestlr), target_names=['0','1'], digits =3))"
   ]
  },
  {
   "cell_type": "markdown",
   "metadata": {},
   "source": [
    "**After applying SMOTE and then fitting our model, recall increased upto %86 with prediction of 6 patients correctly as Cancer.** "
   ]
  },
  {
   "cell_type": "code",
   "execution_count": 262,
   "metadata": {},
   "outputs": [
    {
     "name": "stdout",
     "output_type": "stream",
     "text": [
      "[[336   1]\n",
      " [  1   6]]\n"
     ]
    }
   ],
   "source": [
    "print (confusion_matrix(ytestlr, clf.predict(Xtestlr)))"
   ]
  },
  {
   "cell_type": "code",
   "execution_count": 263,
   "metadata": {},
   "outputs": [
    {
     "name": "stdout",
     "output_type": "stream",
     "text": [
      "             precision    recall  f1-score   support\n",
      "\n",
      "          0      0.997     1.000     0.999       337\n",
      "          1      1.000     0.857     0.923         7\n",
      "\n",
      "avg / total      0.997     0.997     0.997       344\n",
      "\n"
     ]
    }
   ],
   "source": [
    "from sklearn.ensemble import RandomForestClassifier\n",
    "from sklearn.metrics import classification_report\n",
    "clf = RandomForestClassifier(n_estimators=400)\n",
    "clf.fit(X_res, y_res)\n",
    "predictions = clf.predict( Xtestlr)\n",
    "print (classification_report(ytestlr, predictions, target_names=['0', '1'], digits = 3))"
   ]
  },
  {
   "cell_type": "code",
   "execution_count": 264,
   "metadata": {},
   "outputs": [
    {
     "name": "stdout",
     "output_type": "stream",
     "text": [
      "[[337   0]\n",
      " [  1   6]]\n"
     ]
    }
   ],
   "source": [
    "print (confusion_matrix(ytestlr, clf.predict(Xtestlr)))"
   ]
  },
  {
   "cell_type": "markdown",
   "metadata": {},
   "source": [
    "**After changing the proportion of Train and Test Set, our model's prediction accuracy almost increased upto %6 and 6 out of 7 patients are also predicted as Cancer correctly. If we had more Cancer patient samples in data set, we would have train our model better and get more accurate predictions.To said that we would advise the customer to get more Cancer samples to have better predictions.**"
   ]
  },
  {
   "cell_type": "markdown",
   "metadata": {},
   "source": [
    "### Most Important Features In Our Model"
   ]
  },
  {
   "cell_type": "code",
   "execution_count": 265,
   "metadata": {},
   "outputs": [
    {
     "data": {
      "image/png": "[encoded data removed]",
      "text/plain": [
       "<Figure size 1440x864 with 1 Axes>"
      ]
     },
     "metadata": {},
     "output_type": "display_data"
    }
   ],
   "source": [
    "plt.figure(figsize = (20,12))\n",
    "model_feature_names = df.drop('Dx:Cancer', axis =1).columns\n",
    "feature_importances = clf.feature_importances_\n",
    "feature_names, feature_scores = zip(*sorted(zip(model_feature_names, feature_importances), key=lambda x: x[1]))\n",
    "y_position = list(range(len(feature_names)))\n",
    "plt.barh(y_position, feature_scores, height=0.6, align='center')\n",
    "plt.yticks(y_position , feature_names)\n",
    "plt.xlabel('Relative Importance Score')\n",
    "plt.ylabel('Feature')\n",
    "t = plt.title('Feature Importances for Decision Tree')"
   ]
  }
 ],
 "metadata": {
  "kernelspec": {
   "display_name": "python3.5",
   "language": "python",
   "name": "python3.5"
  },
  "language_info": {
   "codemirror_mode": {
    "name": "ipython",
    "version": 2
   },
   "file_extension": ".py",
   "mimetype": "text/x-python",
   "name": "python",
   "nbconvert_exporter": "python",
   "pygments_lexer": "ipython2",
   "version": "2.7.15"
  }
 },
 "nbformat": 4,
 "nbformat_minor": 2
}
